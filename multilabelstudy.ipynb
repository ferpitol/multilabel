{
 "cells": [
  {
   "cell_type": "markdown",
   "metadata": {},
   "source": [
    "# Multi-label and multi-class classification problems\n",
    "\n",
    "dataset : https://archive.ics.uci.edu/ml/datasets/Anuran+Calls+%28MFCCs%29\n"
   ]
  },
  {
   "cell_type": "code",
   "execution_count": 2,
   "metadata": {},
   "outputs": [
    {
     "name": "stdout",
     "output_type": "stream",
     "text": [
      "Binary technique---------------------------------------------------------------------\n",
      "[0.9624826308476147, 0.6910606762389996, 0.9759147753589624, 0.857341361741547, 0.889300602130616, 0.8286243631310792, 0.8290875405280222, 0.5845298749421028]\n",
      "Chain technique----------------------------------------------------------------------\n",
      "[0.9708198239925891, 0.8814265863825845, 0.983788791106994, 0.9096804075961094, 0.9393237610004632, 0.9004168596572487, 0.9194071329319129, 0.5525706345530338]\n",
      "Label power technique----------------------------------------------------------------\n",
      "[0.9717461787864752, 0.9096804075961094, 0.9916628068550255, 0.9434923575729505, 0.9754515979620194, 0.9212598425196851, 0.7253358036127837, 0.9147753589624826]\n"
     ]
    }
   ],
   "source": [
    "from sklearn import preprocessing\n",
    "from skmultilearn.problem_transform import BinaryRelevance,ClassifierChain,LabelPowerset\n",
    "from sklearn.model_selection import train_test_split\n",
    "from sklearn.naive_bayes import GaussianNB\n",
    "from sklearn.neighbors import KNeighborsClassifier\n",
    "from sklearn.svm import SVC\n",
    "from sklearn.gaussian_process import GaussianProcessClassifier\n",
    "from sklearn.gaussian_process.kernels import RBF\n",
    "from sklearn.tree import DecisionTreeClassifier\n",
    "from sklearn.ensemble import RandomForestClassifier, AdaBoostClassifier\n",
    "from sklearn.neural_network import MLPClassifier\n",
    "from sklearn.metrics import accuracy_score\n",
    "import scipy\n",
    "from scipy.io import arff\n",
    "import pandas as pd\n",
    "\n",
    "# classifier choose\n",
    "classifiers = [\n",
    "    KNeighborsClassifier(20),\n",
    "    SVC(kernel=\"linear\", C=0.06),\n",
    "    SVC(gamma=2, C=1),\n",
    "    #GaussianProcessClassifier(1.0 * RBF(1.0)),\n",
    "    DecisionTreeClassifier(max_depth=22),\n",
    "    RandomForestClassifier(max_depth=22, n_estimators=10, max_features=1),\n",
    "    MLPClassifier(alpha=1),\n",
    "    AdaBoostClassifier(n_estimators=10),\n",
    "    GaussianNB()]\n",
    "\n",
    "def make_classifications(classifier,X_train, y_train,X_test,y_test):\n",
    "    classifier.fit(X_train, y_train)\n",
    "    predictions = classifier.predict(X_test)\n",
    "    return accuracy_score(y_test,predictions)\n",
    "\n",
    "\n",
    "df = pd.read_csv(\"frogs/Frogs_MFCCs.csv\")\n",
    "\n",
    "df[[\"Family\",\"Genus\",\"Species\"]] = df[[\"Family\",\"Genus\",\"Species\"]].astype('category')\n",
    "\n",
    "data = df[df.columns[0:22]]\n",
    "dfFamily =  pd.get_dummies(df[\"Family\"])\n",
    "dfGenus =  pd.get_dummies(df[\"Genus\"])\n",
    "dfSpecies =  pd.get_dummies(df[\"Species\"])\n",
    "dft = pd.concat([data,dfFamily,dfGenus,dfSpecies],axis=\"columns\")\n",
    "\n",
    "classes = dft[[\"Adenomera\",\"AdenomeraAndre\",\"AdenomeraHylaedactylus\",\"Ameerega\",\"Ameeregatrivittata\",\"Bufonidae\",\"Dendrobatidae\",\"Dendropsophus\",\"HylaMinuta\",\"Hylidae\",\"Hypsiboas\",\"HypsiboasCinerascens\",\"HypsiboasCordobae\",\"Leptodactylidae\",\"Leptodactylus\",\"LeptodactylusFuscus\",\"Osteocephalus\",\"OsteocephalusOophagus\",\"Rhinella\",\"Rhinellagranulosa\",\"Scinax\",\"ScinaxRuber\"]]\n",
    "#splitting\n",
    "X_train, X_test, y_train, y_test = train_test_split(data, classes, test_size=0.30)\n",
    "\n",
    "print(\"Binary technique---------------------------------------------------------------------\")\n",
    "results = [make_classifications(BinaryRelevance(classifier),X_train, y_train,X_test,y_test) for classifier in classifiers]\n",
    "print(results)\n",
    "print(\"Chain technique----------------------------------------------------------------------\")\n",
    "results = [make_classifications(ClassifierChain(classifier),X_train, y_train,X_test,y_test) for classifier in classifiers]\n",
    "print(results)\n",
    "print(\"Label power technique----------------------------------------------------------------\")\n",
    "results = [make_classifications(LabelPowerset(classifier),X_train, y_train,X_test,y_test) for classifier in classifiers]\n",
    "print(results)\n"
   ]
  },
  {
   "cell_type": "code",
   "execution_count": null,
   "metadata": {},
   "outputs": [],
   "source": []
  }
 ],
 "metadata": {
  "kernelspec": {
   "display_name": "Python 3",
   "language": "python",
   "name": "python3"
  },
  "language_info": {
   "codemirror_mode": {
    "name": "ipython",
    "version": 3
   },
   "file_extension": ".py",
   "mimetype": "text/x-python",
   "name": "python",
   "nbconvert_exporter": "python",
   "pygments_lexer": "ipython3",
   "version": "3.6.5"
  }
 },
 "nbformat": 4,
 "nbformat_minor": 2
}
