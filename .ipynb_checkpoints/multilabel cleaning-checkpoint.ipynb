{
 "cells": [
  {
   "cell_type": "code",
   "execution_count": 2,
   "metadata": {},
   "outputs": [
    {
     "name": "stdout",
     "output_type": "stream",
     "text": [
      "Binary technique---------------------------------------------------------------------\n",
      "[0.9666512274201019, 0.6850393700787402, 0.9819360815192218, 0.8508568781843446, 0.88837424733673, 0.8272348309402501, 0.8281611857341362, 0.5919407132931913]\n",
      "Chain technique----------------------------------------------------------------------\n",
      "[0.9694302918017601, 0.8818897637795275, 0.9893469198703103, 0.9143121815655396, 0.9444187123668365, 0.9018063918480778, 0.9189439555349699, 0.5627605372857805]\n",
      "Label power technique----------------------------------------------------------------\n",
      "[0.9712830013895322, 0.9143121815655396, 0.9925891616489115, 0.9416396479851783, 0.9722093561834182, 0.9249652616952293, 0.6790180639184807, 0.9101435849930524]\n"
     ]
    }
   ],
   "source": [
    "\n",
    "from sklearn import preprocessing\n",
    "from skmultilearn.problem_transform import BinaryRelevance,ClassifierChain,LabelPowerset\n",
    "from sklearn.model_selection import train_test_split\n",
    "from sklearn.naive_bayes import GaussianNB\n",
    "from sklearn.neighbors import KNeighborsClassifier\n",
    "from sklearn.svm import SVC\n",
    "from sklearn.gaussian_process import GaussianProcessClassifier\n",
    "from sklearn.gaussian_process.kernels import RBF\n",
    "from sklearn.tree import DecisionTreeClassifier\n",
    "from sklearn.ensemble import RandomForestClassifier, AdaBoostClassifier\n",
    "from sklearn.neural_network import MLPClassifier\n",
    "from sklearn.metrics import accuracy_score\n",
    "import scipy\n",
    "from scipy.io import arff\n",
    "import pandas as pd\n",
    "\n",
    "# classifier choose\n",
    "classifiers = [\n",
    "    KNeighborsClassifier(20),\n",
    "    SVC(kernel=\"linear\", C=0.06),\n",
    "    SVC(gamma=2, C=1),\n",
    "    #GaussianProcessClassifier(1.0 * RBF(1.0)),\n",
    "    DecisionTreeClassifier(max_depth=22),\n",
    "    RandomForestClassifier(max_depth=22, n_estimators=10, max_features=1),\n",
    "    MLPClassifier(alpha=1),\n",
    "    AdaBoostClassifier(n_estimators=10),\n",
    "    GaussianNB()]\n",
    "\n",
    "def make_classifications(classifier,X_train, y_train,X_test,y_test):\n",
    "    classifier.fit(X_train, y_train)\n",
    "    predictions = classifier.predict(X_test)\n",
    "    return accuracy_score(y_test,predictions)\n",
    "\n",
    "\n",
    "df = pd.read_csv(\"frogs/Frogs_MFCCs.csv\")\n",
    "\n",
    "df[[\"Family\",\"Genus\",\"Species\"]] = df[[\"Family\",\"Genus\",\"Species\"]].astype('category')\n",
    "\n",
    "data = df[df.columns[0:22]]\n",
    "dfFamily =  pd.get_dummies(df[\"Family\"])\n",
    "dfGenus =  pd.get_dummies(df[\"Genus\"])\n",
    "dfSpecies =  pd.get_dummies(df[\"Species\"])\n",
    "dft = pd.concat([data,dfFamily,dfGenus,dfSpecies],axis=\"columns\")\n",
    "\n",
    "classes = dft[[\"Adenomera\",\"AdenomeraAndre\",\"AdenomeraHylaedactylus\",\"Ameerega\",\"Ameeregatrivittata\",\"Bufonidae\",\"Dendrobatidae\",\"Dendropsophus\",\"HylaMinuta\",\"Hylidae\",\"Hypsiboas\",\"HypsiboasCinerascens\",\"HypsiboasCordobae\",\"Leptodactylidae\",\"Leptodactylus\",\"LeptodactylusFuscus\",\"Osteocephalus\",\"OsteocephalusOophagus\",\"Rhinella\",\"Rhinellagranulosa\",\"Scinax\",\"ScinaxRuber\"]]\n",
    "\n",
    "#splitting\n",
    "X_train, X_test, y_train, y_test = train_test_split(data, classes, test_size=0.30)\n",
    "\n",
    "print(\"Binary technique---------------------------------------------------------------------\")\n",
    "results = [make_classifications(BinaryRelevance(classifier),X_train, y_train,X_test,y_test) for classifier in classifiers]\n",
    "print(results)\n",
    "print(\"Chain technique----------------------------------------------------------------------\")\n",
    "results = [make_classifications(ClassifierChain(classifier),X_train, y_train,X_test,y_test) for classifier in classifiers]\n",
    "print(results)\n",
    "print(\"Label power technique----------------------------------------------------------------\")\n",
    "results = [make_classifications(LabelPowerset(classifier),X_train, y_train,X_test,y_test) for classifier in classifiers]\n",
    "print(results)\n",
    "\n"
   ]
  }
 ],
 "metadata": {
  "kernelspec": {
   "display_name": "Python 3",
   "language": "python",
   "name": "python3"
  },
  "language_info": {
   "codemirror_mode": {
    "name": "ipython",
    "version": 3
   },
   "file_extension": ".py",
   "mimetype": "text/x-python",
   "name": "python",
   "nbconvert_exporter": "python",
   "pygments_lexer": "ipython3",
   "version": "3.6.5"
  }
 },
 "nbformat": 4,
 "nbformat_minor": 2
}
