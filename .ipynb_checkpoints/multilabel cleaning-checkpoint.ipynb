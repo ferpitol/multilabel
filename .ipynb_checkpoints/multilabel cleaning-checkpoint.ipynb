{
 "cells": [
  {
   "cell_type": "code",
   "execution_count": 1,
   "metadata": {},
   "outputs": [
    {
     "name": "stdout",
     "output_type": "stream",
     "text": [
      "0.17346938775510204\n"
     ]
    }
   ],
   "source": [
    "import scipy\n",
    "from scipy.io import arff\n",
    "import pandas as pd\n",
    "from skmultilearn.problem_transform import BinaryRelevance,ClassifierChain,LabelPowerset\n",
    "from sklearn.model_selection import train_test_split\n",
    "from sklearn.naive_bayes import GaussianNB\n",
    "from sklearn.metrics import accuracy_score\n",
    "data, meta = scipy.io.arff.loadarff('emotions/emotions.arff')\n",
    "df = pd.DataFrame(data)\n",
    "df[['amazed-suprised','happy-pleased','relaxing-calm','quiet-still','sad-lonely','angry-aggresive']] = df[['amazed-suprised','happy-pleased','relaxing-calm','quiet-still','sad-lonely','angry-aggresive']].astype(int)\n",
    "data = df[df.columns[0:72]]\n",
    "classes = df[df.columns[72:78]]\n",
    "#splitting\n",
    "X_train, X_test, y_train, y_test = train_test_split(data, classes, test_size=0.33)\n",
    "# classifier choose\n",
    "classifier = BinaryRelevance(GaussianNB())\n",
    "\n",
    "# train\n",
    "classifier.fit(X_train, y_train)\n",
    "\n",
    "# predict\n",
    "predictions = classifier.predict(X_test)\n",
    "\n",
    "acc = accuracy_score(y_test,predictions)\n",
    "print(acc)"
   ]
  },
  {
   "cell_type": "code",
   "execution_count": 8,
   "metadata": {},
   "outputs": [
    {
     "name": "stdout",
     "output_type": "stream",
     "text": [
      "Binary technique---------------------------------------------------------------------\n"
     ]
    },
    {
     "name": "stderr",
     "output_type": "stream",
     "text": [
      "/home/fermin/anaconda3/lib/python3.6/site-packages/sklearn/neural_network/multilayer_perceptron.py:564: ConvergenceWarning: Stochastic Optimizer: Maximum iterations (200) reached and the optimization hasn't converged yet.\n",
      "  % self.max_iter, ConvergenceWarning)\n"
     ]
    },
    {
     "name": "stdout",
     "output_type": "stream",
     "text": [
      "[0.07653061224489796, 0.00510204081632653, 0.0, 0.02040816326530612, 0.0663265306122449, 0.0663265306122449, 0.12755102040816327, 0.0663265306122449, 0.0]\n",
      "Chain technique----------------------------------------------------------------------\n"
     ]
    },
    {
     "name": "stderr",
     "output_type": "stream",
     "text": [
      "/home/fermin/anaconda3/lib/python3.6/site-packages/sklearn/neural_network/multilayer_perceptron.py:564: ConvergenceWarning: Stochastic Optimizer: Maximum iterations (200) reached and the optimization hasn't converged yet.\n",
      "  % self.max_iter, ConvergenceWarning)\n"
     ]
    },
    {
     "name": "stdout",
     "output_type": "stream",
     "text": [
      "[0.07653061224489796, 0.00510204081632653, 0.0, 0.0, 0.11734693877551021, 0.0663265306122449, 0.02040816326530612, 0.0663265306122449, 0.0]\n",
      "Label power technique----------------------------------------------------------------\n"
     ]
    },
    {
     "name": "stderr",
     "output_type": "stream",
     "text": [
      "/home/fermin/anaconda3/lib/python3.6/site-packages/sklearn/neural_network/multilayer_perceptron.py:564: ConvergenceWarning: Stochastic Optimizer: Maximum iterations (200) reached and the optimization hasn't converged yet.\n",
      "  % self.max_iter, ConvergenceWarning)\n"
     ]
    },
    {
     "name": "stdout",
     "output_type": "stream",
     "text": [
      "[0.061224489795918366, 0.0, 0.1377551020408163, 0.05612244897959184, 0.10714285714285714, 0.11734693877551021, 0.07142857142857142, 0.1377551020408163, 0.00510204081632653]\n"
     ]
    }
   ],
   "source": [
    "from sklearn.preprocessing import StandardScaler\n",
    "from sklearn.datasets import make_moons, make_circles, make_classification\n",
    "from sklearn.neural_network import MLPClassifier\n",
    "from sklearn.neighbors import KNeighborsClassifier\n",
    "from sklearn.svm import SVC\n",
    "from sklearn.gaussian_process import GaussianProcessClassifier\n",
    "from sklearn.gaussian_process.kernels import RBF\n",
    "from sklearn.tree import DecisionTreeClassifier\n",
    "from sklearn.ensemble import RandomForestClassifier, AdaBoostClassifier\n",
    "from sklearn.naive_bayes import GaussianNB\n",
    "from sklearn.discriminant_analysis import QuadraticDiscriminantAnalysis\n",
    "from skmultilearn.adapt import MLkNN\n",
    "from sklearn import preprocessing\n",
    "\n",
    "classifiers = [\n",
    "    KNeighborsClassifier(20),\n",
    "    SVC(kernel=\"linear\", C=0.06),\n",
    "    SVC(gamma=2, C=1),\n",
    "    GaussianProcessClassifier(1.0 * RBF(1.0)),\n",
    "    DecisionTreeClassifier(max_depth=70),\n",
    "    RandomForestClassifier(max_depth=70, n_estimators=400, max_features=1),\n",
    "    MLPClassifier(alpha=1),\n",
    "    AdaBoostClassifier(n_estimators=400),\n",
    "    GaussianNB()]\n",
    "\n",
    "\n",
    "def make_classifications(classifier,X_train, y_train,X_test):\n",
    "    classifier.fit(X_scaled, y_train)\n",
    "    predictions = classifier.predict(X_test)\n",
    "    return accuracy_score(y_test,predictions)\n",
    "\n",
    "#X_scaled = preprocessing.scale(X_train)\n",
    "min_max_scaler = preprocessing.MinMaxScaler()\n",
    "X_scaled = min_max_scaler.fit_transform(X_train)\n",
    "print(\"Binary technique---------------------------------------------------------------------\")\n",
    "results = [make_classifications(BinaryRelevance(classifier),X_scaled, y_train,X_test) for classifier in classifiers]\n",
    "print(results)\n",
    "print(\"Chain technique----------------------------------------------------------------------\")\n",
    "results = [make_classifications(ClassifierChain(classifier),X_scaled, y_train,X_test) for classifier in classifiers]\n",
    "print(results)\n",
    "print(\"Label power technique----------------------------------------------------------------\")\n",
    "results = [make_classifications(LabelPowerset(classifier),X_scaled, y_train,X_test) for classifier in classifiers]\n",
    "print(results)\n",
    "#print(\"Adapt knn----------------------------------------------------------------------------\")\n",
    "#result = make_classifications(MLkNN(k=20),X_train, y_train,X_test)\n",
    "\n"
   ]
  }
 ],
 "metadata": {
  "kernelspec": {
   "display_name": "Python 3",
   "language": "python",
   "name": "python3"
  },
  "language_info": {
   "codemirror_mode": {
    "name": "ipython",
    "version": 3
   },
   "file_extension": ".py",
   "mimetype": "text/x-python",
   "name": "python",
   "nbconvert_exporter": "python",
   "pygments_lexer": "ipython3",
   "version": "3.6.5"
  }
 },
 "nbformat": 4,
 "nbformat_minor": 2
}
